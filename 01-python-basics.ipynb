{
 "cells": [
  {
   "cell_type": "markdown",
   "metadata": {},
   "source": [
    "# 🧠 01: Python Basics\n",
    "_Exploring foundational Python syntax, data types, control structures, and functions using the Kaggle Python mini-course._\n",
    "\n",
    "**Author**: In Young Park\n",
    "**Date**: 2024-04-07  \n",
    "**Course**: Kaggle Microcourse – Python  \n",
    "\n",
    "## 🎯 Learning Objectives\n",
    "- Practice basic Python syntax (print, variables, functions)\n",
    "- Understand data types: strings, integers, floats, lists\n",
    "- Apply conditional logic and loops"
   ]
  },
  {
   "cell_type": "code",
   "execution_count": null,
   "metadata": {},
   "outputs": [],
   "source": [
    "# Standard imports for this lesson\n",
    "import math\n",
    "import statistics\n",
    "\n",
    "# If using Pandas later:\n",
    "# import pandas as pd\n",
    "# import numpy as np\n"
   ]
  }
 ],
 "metadata": {
  "language_info": {
   "name": "python"
  },
  "orig_nbformat": 4
 },
 "nbformat": 4,
 "nbformat_minor": 2
}
